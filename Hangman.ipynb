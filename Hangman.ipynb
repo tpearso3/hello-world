{
  "nbformat": 4,
  "nbformat_minor": 0,
  "metadata": {
    "colab": {
      "name": "Hangman",
      "provenance": [],
      "collapsed_sections": [],
      "include_colab_link": true
    },
    "kernelspec": {
      "name": "python3",
      "display_name": "Python 3"
    }
  },
  "cells": [
    {
      "cell_type": "markdown",
      "metadata": {
        "id": "view-in-github",
        "colab_type": "text"
      },
      "source": [
        "<a href=\"https://colab.research.google.com/github/tpearso3/hello-world/blob/master/Hangman.ipynb\" target=\"_parent\"><img src=\"https://colab.research.google.com/assets/colab-badge.svg\" alt=\"Open In Colab\"/></a>"
      ]
    },
    {
      "cell_type": "code",
      "metadata": {
        "id": "l9sviuFNrXd9",
        "colab_type": "code",
        "colab": {}
      },
      "source": [
        "class hang_man_word_manager:\n",
        "  def __init__(self, word):\n",
        "    self.word = word\n",
        "    pass\n"
      ],
      "execution_count": 0,
      "outputs": []
    },
    {
      "cell_type": "code",
      "metadata": {
        "id": "nfN0DPubrbFH",
        "colab_type": "code",
        "colab": {}
      },
      "source": [
        "class word_generator:\n",
        "  def __init__(self, word):\n",
        "    print(\"init\")\n",
        "    self.word = word\n",
        "    pass\n",
        "\n",
        "  def print_word(self):\n",
        "    print(self.word)"
      ],
      "execution_count": 0,
      "outputs": []
    },
    {
      "cell_type": "code",
      "metadata": {
        "id": "41JElAH0rfEo",
        "colab_type": "code",
        "colab": {}
      },
      "source": [
        "class guess_generator:\n",
        "  def __init__(self):\n",
        "    self.next_guess = list()\n",
        "    self.next_guess.append(\"a\")\n",
        "    self.next_guess.append(\"b\")\n",
        "    self.next_guess.append(\"c\")\n",
        "    self.next_guess.append(\"d\")\n",
        "    self.next_guess.append(\"e\")\n",
        "    self.next_guess.append(\"f\")\n",
        "    self.next_guess.append(\"g\")\n",
        "    self.next_guess.append(\"h\")\n",
        "    self.next_guess.append(\"i\")\n",
        "    self.next_guess.append(\"j\")\n",
        "    self.next_guess.append(\"k\")\n",
        "    self.next_guess.append(\"l\")\n",
        "    self.next_guess.append(\"m\")\n",
        "    self.next_guess.append(\"n\")\n",
        "    self.next_guess.append(\"o\")\n",
        "    self.next_guess.append(\"p\")\n",
        "    self.next_guess.append(\"q\")\n",
        "    self.next_guess.append(\"r\")\n",
        "    self.next_guess.append(\"s\")\n",
        "    self.next_guess.append(\"t\")\n",
        "    self.next_guess.append(\"u\")\n",
        "    self.next_guess.append(\"v\")\n",
        "    self.next_guess.append(\"w\")\n",
        "    self.next_guess.append(\"x\")\n",
        "    self.next_guess.append(\"y\")\n",
        "    self.next_guess.append(\"z\")\n",
        "    pass\n",
        "\n",
        "  def get_next_guess(self):\n",
        "    return self.next_guess[0]"
      ],
      "execution_count": 0,
      "outputs": []
    },
    {
      "cell_type": "code",
      "metadata": {
        "id": "jAAhaJgWOL9M",
        "colab_type": "code",
        "outputId": "c00e51d4-6add-48d6-8bf4-8fedbf4f00c8",
        "colab": {
          "base_uri": "https://localhost:8080/",
          "height": 289
        }
      },
      "source": [
        "def print_blank(word):\n",
        "  word_list = list()\n",
        "  for i in range(len(word)):\n",
        "    word_list.append(\"_\")\n",
        "  print(word_list)\n",
        "  return word_list\n",
        "\n",
        "def play_game(word, word_list):\n",
        "  word = list(word)\n",
        "  num_correct_guesses = 0\n",
        "  num_correct_letters = len(word)\n",
        "  while num_correct_guesses < num_correct_letters:\n",
        "    if num_correct_guesses < num_correct_letters:\n",
        "      guess = input(\"Guess a letter: \")\n",
        "      for i in range(len(word)):\n",
        "        if guess == word[i]:\n",
        "          word_list[i] = guess\n",
        "          num_correct_guesses = num_correct_guesses + 1\n",
        "        else:\n",
        "          continue\n",
        "      print(word_list)\n",
        "  print(\"Good Job!\")  \n",
        "\n",
        "def main():\n",
        "  print(\"HANGMAN\")\n",
        "  import getpass\n",
        "  word = getpass.getpass(\"Enter your word: \")\n",
        "  word_list = print_blank(word)\n",
        "  play_game(word, word_list)\n",
        "\n",
        "\n",
        "if __name__ == \"__main__\":\n",
        "  main()"
      ],
      "execution_count": 43,
      "outputs": [
        {
          "output_type": "stream",
          "text": [
            "HANGMAN\n",
            "Enter your word: ··········\n",
            "['_', '_', '_', '_', '_', '_', '_']\n",
            "Guess a letter: M\n",
            "['M', '_', '_', '_', '_', '_', '_']\n",
            "Guess a letter: a\n",
            "['M', 'a', '_', '_', '_', '_', '_']\n",
            "Guess a letter: t\n",
            "['M', 'a', 't', 't', '_', '_', '_']\n",
            "Guess a letter: h\n",
            "['M', 'a', 't', 't', 'h', '_', '_']\n",
            "Guess a letter: e\n",
            "['M', 'a', 't', 't', 'h', 'e', '_']\n",
            "Guess a letter: w\n",
            "['M', 'a', 't', 't', 'h', 'e', 'w']\n",
            "Good Job!\n"
          ],
          "name": "stdout"
        }
      ]
    }
  ]
}