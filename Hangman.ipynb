{
  "nbformat": 4,
  "nbformat_minor": 0,
  "metadata": {
    "colab": {
      "name": "Hangman",
      "provenance": [],
      "collapsed_sections": [],
      "include_colab_link": true
    },
    "kernelspec": {
      "name": "python3",
      "display_name": "Python 3"
    }
  },
  "cells": [
    {
      "cell_type": "markdown",
      "metadata": {
        "id": "view-in-github",
        "colab_type": "text"
      },
      "source": [
        "<a href=\"https://colab.research.google.com/github/tpearso3/hello-world/blob/master/Hangman.ipynb\" target=\"_parent\"><img src=\"https://colab.research.google.com/assets/colab-badge.svg\" alt=\"Open In Colab\"/></a>"
      ]
    },
    {
      "cell_type": "code",
      "metadata": {
        "id": "jAAhaJgWOL9M",
        "colab_type": "code",
        "outputId": "8d79f9ff-59b5-4570-a8e5-64535046509b",
        "colab": {
          "base_uri": "https://localhost:8080/",
          "height": 238
        }
      },
      "source": [
        "debug = False\n",
        "\n",
        "def get_next_bad_guess():\n",
        "  bad_guess_list = ['a', \"aaa\", \"apple\", 2, 3, 4]\n",
        "  return bad_guess_list\n",
        "\n",
        "def print_blank(word):\n",
        "  word_list = list()\n",
        "  for i in range(len(word)):\n",
        "    word_list.append(\"_\")\n",
        "  print(word_list)\n",
        "  return word_list\n",
        "\n",
        "def play_game(word, word_list):\n",
        "  word = list(word)\n",
        "  num_correct_guesses = 0\n",
        "  num_correct_letters = len(word)\n",
        "  num_guesses = 0\n",
        "  num_incorrect_guesses = 0\n",
        "  bad_guess_counter = 0\n",
        "  while num_correct_guesses < num_correct_letters:\n",
        "    if num_correct_guesses < num_correct_letters:\n",
        "      if debug:\n",
        "        guess = get_next_bad_guess()[bad_guess_counter]\n",
        "        bad_guess_counter = bad_guess_counter + 1\n",
        "      else:\n",
        "        guess = input(\"Guess a letter: \")\n",
        "      num_guesses = num_guesses + 1\n",
        "      for i in range(len(word)):\n",
        "        if guess == word[i]:\n",
        "          word_list[i] = guess\n",
        "          num_correct_guesses = num_correct_guesses + 1\n",
        "        else:\n",
        "          continue\n",
        "      print(word_list)\n",
        "    num_incorrect_guesses = num_guesses - num_correct_guesses\n",
        "    if num_incorrect_guesses > 4:\n",
        "      print(\"Too many incorrect guesses, Better Luck Next time!\")\n",
        "      break\n",
        "    if num_correct_guesses == num_correct_letters:\n",
        "      print(\"Good Job!\")\n",
        "      break\n",
        "\n",
        "def main():\n",
        "  print(\"HANGMAN\")\n",
        "  import getpass\n",
        "  word = getpass.getpass(\"Enter your word: \")\n",
        "  word_list = print_blank(word)\n",
        "  play_game(word, word_list)\n",
        "  print(\"Thank you for playing!\")\n",
        "\n",
        "\n",
        "if __name__ == \"__main__\":\n",
        "  main()"
      ],
      "execution_count": 9,
      "outputs": [
        {
          "output_type": "stream",
          "text": [
            "HANGMAN\n",
            "Enter your word: ··········\n",
            "['_', '_', '_', '_', '_']\n",
            "Guess a letter: h\n",
            "['h', '_', '_', '_', '_']\n",
            "Guess a letter: a\n",
            "['h', 'a', '_', '_', '_']\n",
            "Guess a letter: p\n",
            "['h', 'a', 'p', 'p', '_']\n",
            "Guess a letter: y\n",
            "['h', 'a', 'p', 'p', 'y']\n",
            "Good Job!\n",
            "Thank you for playing!\n"
          ],
          "name": "stdout"
        }
      ]
    }
  ]
}