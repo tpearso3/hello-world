{
  "nbformat": 4,
  "nbformat_minor": 0,
  "metadata": {
    "colab": {
      "name": "Roman Numerals",
      "provenance": [],
      "include_colab_link": true
    },
    "kernelspec": {
      "name": "python3",
      "display_name": "Python 3"
    }
  },
  "cells": [
    {
      "cell_type": "markdown",
      "metadata": {
        "id": "view-in-github",
        "colab_type": "text"
      },
      "source": [
        "<a href=\"https://colab.research.google.com/github/tpearso3/hello-world/blob/master/Roman_Numerals.ipynb\" target=\"_parent\"><img src=\"https://colab.research.google.com/assets/colab-badge.svg\" alt=\"Open In Colab\"/></a>"
      ]
    },
    {
      "cell_type": "code",
      "metadata": {
        "id": "oD1w4K5hLQ1n",
        "colab_type": "code",
        "colab": {
          "base_uri": "https://localhost:8080/",
          "height": 34
        },
        "outputId": "0b7faf73-8c3b-426e-ad18-b2e6b6e153b3"
      },
      "source": [
        "#function to subtract numbers\n",
        "def subtract_num(A, B):\n",
        "  C = B - A\n",
        "  return C\n",
        "\n",
        "#function to convert roman numerals to numbers\n",
        "def convert_roman_num_to_num(roman_num):\n",
        "  roman_num = list(roman_num)\n",
        "  for i in range(len(roman_num)):\n",
        "    if roman_num[i] == \"I\":\n",
        "      roman_num[i] = 1\n",
        "    if roman_num[i] == \"V\":\n",
        "      roman_num[i] = 5\n",
        "    if roman_num[i] == \"X\":\n",
        "      roman_num[i] = 10\n",
        "    if roman_num[i] == \"L\":\n",
        "      roman_num[i] = 50\n",
        "    if roman_num[i] == \"C\":\n",
        "      roman_num[i] = 100\n",
        "    if roman_num[i] == \"D\":\n",
        "      roman_num[i] = 500\n",
        "    if roman_num[i] == \"M\":\n",
        "      roman_num[i] = 1000\n",
        "  return roman_num\n",
        "\n",
        "#function to check if B = 10^x, then A < 10^(x+1), or A >= 10^x\n",
        "def check_for_tens(num_list):\n",
        "  tens = True\n",
        "  for i in range(len(num_list) - 1):\n",
        "    if num_list[i + 1] == 10:\n",
        "      if num_list[i] < 100:\n",
        "        continue\n",
        "      if num_list[i] >= 10:\n",
        "        continue\n",
        "      else:\n",
        "        tens = False\n",
        "    if num_list[i + 1] == 100:\n",
        "      if num_list[i] < 1000:\n",
        "        continue\n",
        "      if num_list[i] >= 100:\n",
        "        continue\n",
        "      else:\n",
        "        tens = False\n",
        "    if num_list[i + 1] == 1000:\n",
        "      if num_list[i] >= 1000:\n",
        "        continue\n",
        "      else:\n",
        "        tens = False\n",
        "  return tens\n",
        "\n",
        "#function to find if A < B, and create a new list with new values\n",
        "def check_for_subtraction(num_list):\n",
        "  new_num_list = list()\n",
        "  for i in range(len(num_list) - 1):\n",
        "    if num_list[i] < num_list[i + 1]: #if A < B\n",
        "      new_num_list.append(subtract_num(num_list[i], num_list[i + 1]))\n",
        "    if num_list[i] == num_list[i + 1]: #if A = B\n",
        "      new_num_list.append(num_list[i])\n",
        "      if (i + 1) == (len(num_list) - 1):\n",
        "        new_num_list.append(num_list[i + 1])\n",
        "    if num_list[i] > num_list[i + 1]: #if A > B\n",
        "      if i == 0:\n",
        "        new_num_list.append(num_list[i])\n",
        "      if num_list[i] > num_list[i - 1]:\n",
        "        continue\n",
        "      else:\n",
        "        new_num_list.append(num_list[i])\n",
        "        if (i + 1) == (len(num_list) - 1):\n",
        "          new_num_list.append(num_list[i + 1])\n",
        "  return new_num_list\n",
        "\n",
        "#function to total up the numbers\n",
        "def add_new_list(new_num_list):\n",
        "  num_total = 0\n",
        "  for i in range(len(new_num_list)):\n",
        "    num_total = num_total + new_num_list[i]\n",
        "  return num_total\n",
        "\n",
        "\n",
        "def main():\n",
        "  roman_num = \"XC\"\n",
        "  num_list = convert_roman_num_to_num(roman_num)\n",
        "  if check_for_tens(num_list):\n",
        "    new_num_list = check_for_subtraction(num_list)\n",
        "    number = add_new_list(new_num_list)\n",
        "    print(roman_num, \" = \", number)\n",
        "  else:\n",
        "    print(\"Invalid Roman Numeral\")\n",
        "\n",
        "\n",
        "if __name__ == \"__main__\":\n",
        "  main()"
      ],
      "execution_count": 86,
      "outputs": [
        {
          "output_type": "stream",
          "text": [
            "XC  =  90\n"
          ],
          "name": "stdout"
        }
      ]
    }
  ]
}